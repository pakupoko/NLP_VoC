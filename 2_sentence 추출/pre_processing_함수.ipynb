{
 "cells": [
  {
   "cell_type": "code",
   "execution_count": null,
   "metadata": {},
   "outputs": [],
   "source": [
    "def pre_processing(data):\n",
    "    data['score'] = data['score'].apply(lambda x : x.split(' ')[0])\n",
    "    result = []\n",
    "    for i in range(len(data)):\n",
    "        product = data.loc[i, 'product_name']\n",
    "        date = data.loc[i, 'review_date']\n",
    "        score = data.loc[i, 'score']\n",
    "        user = data.loc[i, 'user']\n",
    "        text = data.loc[i, 'review']\n",
    "\n",
    "        Sentences_list = sent_tokenize(text)\n",
    "        for txt in Sentences_list:\n",
    "            dict_n = {\n",
    "                'product' : product,\n",
    "                'date' : date,\n",
    "                'score' : score,\n",
    "                'user' : user,\n",
    "                'review' : txt\n",
    "            }\n",
    "            result.append(dict_n)\n",
    "\n",
    "    df = pd.DataFrame(result)\n",
    "    return df"
   ]
  }
 ],
 "metadata": {
  "kernelspec": {
   "display_name": "Python 3",
   "language": "python",
   "name": "python3"
  },
  "language_info": {
   "codemirror_mode": {
    "name": "ipython",
    "version": 3
   },
   "file_extension": ".py",
   "mimetype": "text/x-python",
   "name": "python",
   "nbconvert_exporter": "python",
   "pygments_lexer": "ipython3",
   "version": "3.6.6"
  }
 },
 "nbformat": 4,
 "nbformat_minor": 2
}
