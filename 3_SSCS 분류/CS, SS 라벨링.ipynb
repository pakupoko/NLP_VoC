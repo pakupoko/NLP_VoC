{
 "cells": [
  {
   "cell_type": "code",
   "execution_count": 2,
   "metadata": {},
   "outputs": [
    {
     "data": {
      "text/html": [
       "<div>\n",
       "<style scoped>\n",
       "    .dataframe tbody tr th:only-of-type {\n",
       "        vertical-align: middle;\n",
       "    }\n",
       "\n",
       "    .dataframe tbody tr th {\n",
       "        vertical-align: top;\n",
       "    }\n",
       "\n",
       "    .dataframe thead th {\n",
       "        text-align: right;\n",
       "    }\n",
       "</style>\n",
       "<table border=\"1\" class=\"dataframe\">\n",
       "  <thead>\n",
       "    <tr style=\"text-align: right;\">\n",
       "      <th></th>\n",
       "      <th>asin</th>\n",
       "      <th>date</th>\n",
       "      <th>model</th>\n",
       "      <th>product</th>\n",
       "      <th>review</th>\n",
       "      <th>score</th>\n",
       "      <th>user</th>\n",
       "    </tr>\n",
       "  </thead>\n",
       "  <tbody>\n",
       "    <tr>\n",
       "      <th>0</th>\n",
       "      <td>B07S1HTSGH</td>\n",
       "      <td>June 30, 2019</td>\n",
       "      <td>NaN</td>\n",
       "      <td>Digital Camera with WiFi 24.0 MP Vlogging Came...</td>\n",
       "      <td>I am so glad I found this inexpensive camera o...</td>\n",
       "      <td>5.0</td>\n",
       "      <td>Arsenals</td>\n",
       "    </tr>\n",
       "    <tr>\n",
       "      <th>1</th>\n",
       "      <td>B07S1HTSGH</td>\n",
       "      <td>June 30, 2019</td>\n",
       "      <td>NaN</td>\n",
       "      <td>Digital Camera with WiFi 24.0 MP Vlogging Came...</td>\n",
       "      <td>The pictures came out very clear and very real...</td>\n",
       "      <td>5.0</td>\n",
       "      <td>Arsenals</td>\n",
       "    </tr>\n",
       "    <tr>\n",
       "      <th>2</th>\n",
       "      <td>B07S1HTSGH</td>\n",
       "      <td>June 25, 2019</td>\n",
       "      <td>NaN</td>\n",
       "      <td>Digital Camera with WiFi 24.0 MP Vlogging Came...</td>\n",
       "      <td>Now is a good time to travel.I'm a novice phot...</td>\n",
       "      <td>5.0</td>\n",
       "      <td>Vargas Laurence</td>\n",
       "    </tr>\n",
       "    <tr>\n",
       "      <th>3</th>\n",
       "      <td>B07S1HTSGH</td>\n",
       "      <td>July 20, 2019</td>\n",
       "      <td>NaN</td>\n",
       "      <td>Digital Camera with WiFi 24.0 MP Vlogging Came...</td>\n",
       "      <td>I'm not sure if it was just the camera that I ...</td>\n",
       "      <td>3.0</td>\n",
       "      <td>Diane</td>\n",
       "    </tr>\n",
       "    <tr>\n",
       "      <th>4</th>\n",
       "      <td>B07S1HTSGH</td>\n",
       "      <td>July 20, 2019</td>\n",
       "      <td>NaN</td>\n",
       "      <td>Digital Camera with WiFi 24.0 MP Vlogging Came...</td>\n",
       "      <td>When I transferred the pictures and videos to ...</td>\n",
       "      <td>3.0</td>\n",
       "      <td>Diane</td>\n",
       "    </tr>\n",
       "  </tbody>\n",
       "</table>\n",
       "</div>"
      ],
      "text/plain": [
       "         asin           date model  \\\n",
       "0  B07S1HTSGH  June 30, 2019   NaN   \n",
       "1  B07S1HTSGH  June 30, 2019   NaN   \n",
       "2  B07S1HTSGH  June 25, 2019   NaN   \n",
       "3  B07S1HTSGH  July 20, 2019   NaN   \n",
       "4  B07S1HTSGH  July 20, 2019   NaN   \n",
       "\n",
       "                                             product  \\\n",
       "0  Digital Camera with WiFi 24.0 MP Vlogging Came...   \n",
       "1  Digital Camera with WiFi 24.0 MP Vlogging Came...   \n",
       "2  Digital Camera with WiFi 24.0 MP Vlogging Came...   \n",
       "3  Digital Camera with WiFi 24.0 MP Vlogging Came...   \n",
       "4  Digital Camera with WiFi 24.0 MP Vlogging Came...   \n",
       "\n",
       "                                              review  score             user  \n",
       "0  I am so glad I found this inexpensive camera o...    5.0         Arsenals  \n",
       "1  The pictures came out very clear and very real...    5.0         Arsenals  \n",
       "2  Now is a good time to travel.I'm a novice phot...    5.0  Vargas Laurence  \n",
       "3  I'm not sure if it was just the camera that I ...    3.0            Diane  \n",
       "4  When I transferred the pictures and videos to ...    3.0            Diane  "
      ]
     },
     "execution_count": 2,
     "metadata": {},
     "output_type": "execute_result"
    }
   ],
   "source": [
    "import pandas as pd\n",
    "from nltk.corpus import comparative_sentences  #keyword comparison 생성 모듈\n",
    "\n",
    "data = pd.read_csv('pre_processingVer5.csv')\n",
    "data = data.drop(['Unnamed: 0'], axis = 1)\n",
    "data.head()"
   ]
  },
  {
   "cell_type": "code",
   "execution_count": 3,
   "metadata": {},
   "outputs": [
    {
     "data": {
      "text/plain": [
       "70976"
      ]
     },
     "execution_count": 3,
     "metadata": {},
     "output_type": "execute_result"
    }
   ],
   "source": [
    "#데이터 확인\n",
    "len(data)"
   ]
  },
  {
   "cell_type": "code",
   "execution_count": 13,
   "metadata": {
    "scrolled": true
   },
   "outputs": [
    {
     "data": {
      "text/plain": [
       "['beat',\n",
       " 'inferior',\n",
       " 'outstrip',\n",
       " 'Choice',\n",
       " 'choose',\n",
       " 'prefer',\n",
       " 'recommend',\n",
       " 'outperform',\n",
       " 'superior',\n",
       " 'all',\n",
       " 'favor',\n",
       " 'defeat',\n",
       " 'twice',\n",
       " 'thrice',\n",
       " 'Number one',\n",
       " 'more',\n",
       " 'like',\n",
       " 'Versus',\n",
       " 'first',\n",
       " 'outdistance',\n",
       " 'before',\n",
       " 'double',\n",
       " 'outsell',\n",
       " 'nobody',\n",
       " 'Vs',\n",
       " 'last',\n",
       " 'after',\n",
       " 'thrice',\n",
       " 'improve',\n",
       " 'only',\n",
       " 'outmatch',\n",
       " 'ahead',\n",
       " 'fraction',\n",
       " 'outdo',\n",
       " 'unmatched',\n",
       " 'peerless',\n",
       " 'differ',\n",
       " 'outwit',\n",
       " 'Compare',\n",
       " 'top',\n",
       " 'exceed',\n",
       " 'lead',\n",
       " 'win',\n",
       " 'outstrip',\n",
       " 'none',\n",
       " 'unrivaled',\n",
       " 'dominate',\n",
       " 'second',\n",
       " 'nonpareil',\n",
       " 'advantage',\n",
       " 'unlike',\n",
       " 'least',\n",
       " 'outclass',\n",
       " 'outfox',\n",
       " 'outdistance',\n",
       " 'most',\n",
       " 'up against',\n",
       " 'less',\n",
       " 'half',\n",
       " 'behind',\n",
       " 'Compete']"
      ]
     },
     "execution_count": 13,
     "metadata": {},
     "output_type": "execute_result"
    }
   ],
   "source": [
    "#kw 사전 리스트 생성\n",
    "### kw_list = comparative_sentences.keywords_readme()[5:]\n",
    "### kw_str = '|'.join(kw_list)\n",
    "\n",
    "#kw 사전 수작업으로 분류 후 다시 읽어오기\n",
    "kw_list_excel = pd.read_excel('kw_list.xls')\n",
    "#칼럼 중에 'to_use'만 가져오기\n",
    "kw_list = list(kw_list['to_use'])\n",
    "kw_str = '|'.join(kw_list)\n",
    "\n",
    "kw_list"
   ]
  },
  {
   "cell_type": "code",
   "execution_count": 14,
   "metadata": {},
   "outputs": [],
   "source": [
    "def make_sscs(data):\n",
    "    from nltk import word_tokenize, pos_tag\n",
    "    cs_list = []\n",
    "    ss_list = []\n",
    "    for i in range(len(data)):\n",
    "        text = data.loc[i, 'review']\n",
    "        product = data.loc[i, 'product']\n",
    "        \n",
    "        # nltk로 토크나이즈, 포스태깅\n",
    "        tokens = word_tokenize(text)\n",
    "        pos_tokens = pos_tag(tokens)\n",
    "        \n",
    "        # 비교구문이 들어있는 문장 찾기\n",
    "        count = 0\n",
    "        for tok, pos in pos_tokens:\n",
    "            if pos in ['JJR', 'JJS', 'RBS', \"RBR'\"]:\n",
    "                count +=1\n",
    "\n",
    "        if count != 0:\n",
    "            cs_list.append(i)\n",
    "        elif count == 0:\n",
    "            ss_list.append(i)\n",
    "        \n",
    "    \n",
    "    df_ss = data.loc[ss_list]     \n",
    "    \n",
    "    df_cs = data.loc[cs_list]\n",
    "    # product_list가 없어서 #처리함. 추후 보강해야 함\n",
    "#     product_list = []\n",
    "#     products = '|'.join(product_list)\n",
    "#     df = df[df.review.str.contains(products)== True]\n",
    "    df_cs = df_cs[df_cs.review.str.contains(kw_str)== True]\n",
    "    \n",
    "    df_cs['CS_SS'] = 'CS'\n",
    "    df_ss['CS_SS'] = 'SS'\n",
    "\n",
    "    df_t = df_cs.append(df_ss, ignore_index=True)\n",
    "    return df_t"
   ]
  },
  {
   "cell_type": "code",
   "execution_count": 15,
   "metadata": {},
   "outputs": [],
   "source": [
    "df_t = make_sscs(data)"
   ]
  },
  {
   "cell_type": "code",
   "execution_count": 16,
   "metadata": {},
   "outputs": [
    {
     "data": {
      "text/plain": [
       "7528"
      ]
     },
     "execution_count": 16,
     "metadata": {},
     "output_type": "execute_result"
    }
   ],
   "source": [
    "len(df_t[df_t.CS_SS=='CS'])"
   ]
  },
  {
   "cell_type": "code",
   "execution_count": 17,
   "metadata": {},
   "outputs": [
    {
     "data": {
      "text/plain": [
       "60520"
      ]
     },
     "execution_count": 17,
     "metadata": {},
     "output_type": "execute_result"
    }
   ],
   "source": [
    "len(df_t[df_t.CS_SS=='SS'])"
   ]
  },
  {
   "cell_type": "code",
   "execution_count": 11,
   "metadata": {},
   "outputs": [],
   "source": [
    "df_t.to_excel('labelingSSCS.xlsx')"
   ]
  }
 ],
 "metadata": {
  "kernelspec": {
   "display_name": "Python 3",
   "language": "python",
   "name": "python3"
  },
  "language_info": {
   "codemirror_mode": {
    "name": "ipython",
    "version": 3
   },
   "file_extension": ".py",
   "mimetype": "text/x-python",
   "name": "python",
   "nbconvert_exporter": "python",
   "pygments_lexer": "ipython3",
   "version": "3.7.3"
  }
 },
 "nbformat": 4,
 "nbformat_minor": 2
}
