{
 "cells": [
  {
   "cell_type": "code",
   "execution_count": 28,
   "metadata": {},
   "outputs": [
    {
     "data": {
      "text/html": [
       "<div>\n",
       "<style scoped>\n",
       "    .dataframe tbody tr th:only-of-type {\n",
       "        vertical-align: middle;\n",
       "    }\n",
       "\n",
       "    .dataframe tbody tr th {\n",
       "        vertical-align: top;\n",
       "    }\n",
       "\n",
       "    .dataframe thead th {\n",
       "        text-align: right;\n",
       "    }\n",
       "</style>\n",
       "<table border=\"1\" class=\"dataframe\">\n",
       "  <thead>\n",
       "    <tr style=\"text-align: right;\">\n",
       "      <th></th>\n",
       "      <th>asin</th>\n",
       "      <th>date</th>\n",
       "      <th>product</th>\n",
       "      <th>review</th>\n",
       "      <th>score</th>\n",
       "      <th>user</th>\n",
       "    </tr>\n",
       "  </thead>\n",
       "  <tbody>\n",
       "    <tr>\n",
       "      <th>0</th>\n",
       "      <td>B00000J48G</td>\n",
       "      <td>11 18, 1999</td>\n",
       "      <td>Polaroid PDC-640 0.3MP Digital Camera Creative...</td>\n",
       "      <td>i have taken over 500 pics using all three foc...</td>\n",
       "      <td>4.0</td>\n",
       "      <td>A.J.Kirchoff (xgi@ametro.net)</td>\n",
       "    </tr>\n",
       "    <tr>\n",
       "      <th>1</th>\n",
       "      <td>B00000J48G</td>\n",
       "      <td>11 18, 1999</td>\n",
       "      <td>Polaroid PDC-640 0.3MP Digital Camera Creative...</td>\n",
       "      <td>i wish that it would take the 16memory and  th...</td>\n",
       "      <td>4.0</td>\n",
       "      <td>A.J.Kirchoff (xgi@ametro.net)</td>\n",
       "    </tr>\n",
       "    <tr>\n",
       "      <th>2</th>\n",
       "      <td>B00000J48G</td>\n",
       "      <td>06 10, 2002</td>\n",
       "      <td>Polaroid PDC-640 0.3MP Digital Camera Creative...</td>\n",
       "      <td>only draw back is theres no optical lens.</td>\n",
       "      <td>4.0</td>\n",
       "      <td>Andrea Rowland \"Andrea\"</td>\n",
       "    </tr>\n",
       "    <tr>\n",
       "      <th>3</th>\n",
       "      <td>B00000J48G</td>\n",
       "      <td>04 26, 2000</td>\n",
       "      <td>Polaroid PDC-640 0.3MP Digital Camera Creative...</td>\n",
       "      <td>i like  the way my 5x7 prints and smaller turn...</td>\n",
       "      <td>4.0</td>\n",
       "      <td>\"denisey65\"</td>\n",
       "    </tr>\n",
       "    <tr>\n",
       "      <th>4</th>\n",
       "      <td>B00000J48G</td>\n",
       "      <td>04 26, 2000</td>\n",
       "      <td>Polaroid PDC-640 0.3MP Digital Camera Creative...</td>\n",
       "      <td>flashing is  important in any photography, and...</td>\n",
       "      <td>4.0</td>\n",
       "      <td>\"denisey65\"</td>\n",
       "    </tr>\n",
       "  </tbody>\n",
       "</table>\n",
       "</div>"
      ],
      "text/plain": [
       "         asin         date                                            product  \\\n",
       "0  B00000J48G  11 18, 1999  Polaroid PDC-640 0.3MP Digital Camera Creative...   \n",
       "1  B00000J48G  11 18, 1999  Polaroid PDC-640 0.3MP Digital Camera Creative...   \n",
       "2  B00000J48G  06 10, 2002  Polaroid PDC-640 0.3MP Digital Camera Creative...   \n",
       "3  B00000J48G  04 26, 2000  Polaroid PDC-640 0.3MP Digital Camera Creative...   \n",
       "4  B00000J48G  04 26, 2000  Polaroid PDC-640 0.3MP Digital Camera Creative...   \n",
       "\n",
       "                                              review  score  \\\n",
       "0  i have taken over 500 pics using all three foc...    4.0   \n",
       "1  i wish that it would take the 16memory and  th...    4.0   \n",
       "2          only draw back is theres no optical lens.    4.0   \n",
       "3  i like  the way my 5x7 prints and smaller turn...    4.0   \n",
       "4  flashing is  important in any photography, and...    4.0   \n",
       "\n",
       "                            user  \n",
       "0  A.J.Kirchoff (xgi@ametro.net)  \n",
       "1  A.J.Kirchoff (xgi@ametro.net)  \n",
       "2        Andrea Rowland \"Andrea\"  \n",
       "3                    \"denisey65\"  \n",
       "4                    \"denisey65\"  "
      ]
     },
     "execution_count": 28,
     "metadata": {},
     "output_type": "execute_result"
    }
   ],
   "source": [
    "import pandas as pd\n",
    "from nltk.corpus import comparative_sentences  #keyword comparison 생성 모듈\n",
    "\n",
    "data = pd.read_csv('reviews_preprocessing.csv', engine='python')\n",
    "data.head()"
   ]
  },
  {
   "cell_type": "code",
   "execution_count": 127,
   "metadata": {},
   "outputs": [
    {
     "data": {
      "text/plain": [
       "442911"
      ]
     },
     "execution_count": 127,
     "metadata": {},
     "output_type": "execute_result"
    }
   ],
   "source": [
    "#데이터 확인\n",
    "len(data)"
   ]
  },
  {
   "cell_type": "code",
   "execution_count": 128,
   "metadata": {
    "scrolled": true
   },
   "outputs": [
    {
     "name": "stdout",
     "output_type": "stream",
     "text": [
      "beat\n",
      "inferior\n",
      "outstrip\n",
      "Choice\n",
      "choose\n",
      "prefer\n",
      "recommend\n",
      "outperform\n",
      "superior\n",
      "all\n",
      "favor\n",
      "defeat\n",
      "twice\n",
      "thrice\n",
      "Number one\n",
      "more\n",
      "like\n",
      "Versus\n",
      "first\n",
      "outdistance\n",
      "before\n",
      "double\n",
      "outsell\n",
      "nobody\n",
      "Vs\n",
      "last\n",
      "after\n",
      "thrice\n",
      "improve\n",
      "only\n",
      "outmatch\n",
      "ahead\n",
      "fraction\n",
      "outdo\n",
      "unmatched\n",
      "peerless\n",
      "differ\n",
      "outwit\n",
      "Compare\n",
      "top\n",
      "exceed\n",
      "lead\n",
      "win\n",
      "outstrip\n",
      "none\n",
      "unrivaled\n",
      "dominate\n",
      "second\n",
      "nonpareil\n",
      "advantage\n",
      "unlike\n",
      "least\n",
      "outclass\n",
      "outfox\n",
      "outdistance\n",
      "most\n",
      "up against\n",
      "less\n",
      "half\n",
      "behind\n",
      "Compete\n"
     ]
    }
   ],
   "source": [
    "#kw 사전 리스트 생성\n",
    "### kw_list = comparative_sentences.keywords_readme()[5:]\n",
    "### kw_str = '|'.join(kw_list)\n",
    "\n",
    "#kw 사전 수작업으로 분류 후 다시 읽어오기\n",
    "def call_kw():\n",
    "    kw_list = pd.read_excel('kw_list.xls')\n",
    "    #칼럼 중에 'to_use'만 가져오기\n",
    "    kw_list = list(kw_list['to_use'])\n",
    "#     kw_str = '|'.join(kw_list)\n",
    "    \n",
    "    return kw_list\n",
    "\n",
    "for kw in call_kw():\n",
    "    print(kw)"
   ]
  },
  {
   "cell_type": "code",
   "execution_count": 75,
   "metadata": {},
   "outputs": [],
   "source": [
    "# kw_list=call_kw()\n",
    "# #for문 기반 cs,ss 라벨링\n",
    "# def make_sscs(data):\n",
    "#     from nltk import word_tokenize, pos_tag\n",
    "#     cs_list = []\n",
    "#     ss_list = []\n",
    "#     for i in range(len(data)):\n",
    "#         text = data.loc[i, 'review']\n",
    "#         product = data.loc[i, 'product']\n",
    "        \n",
    "#         # nltk로 토크나이즈, 포스태깅\n",
    "#         tokens = word_tokenize(text)\n",
    "#         pos_tokens = pos_tag(tokens)\n",
    "        \n",
    "#         # 비교구문이 들어있는 문장 찾기\n",
    "#         count = 0\n",
    "#         for tok, pos in pos_tokens:\n",
    "#             if pos in ['JJR', 'JJS', 'RBS', \"RBR\"]:\n",
    "#                 count +=1\n",
    "\n",
    "#         if count != 0:\n",
    "#             cs_list.append(i)\n",
    "#         elif count == 0:\n",
    "#             ss_list.append(i)\n",
    "        \n",
    "    \n",
    "#     df_ss = data.loc[ss_list]     \n",
    "    \n",
    "#     df_cs = data.loc[cs_list]\n",
    "#     # product_list가 없어서 #처리함. 추후 보강해야 함\n",
    "# #     product_list = []\n",
    "# #     products = '|'.join(product_list)\n",
    "# #     df = df[df.review.str.contains(products)== True]\n",
    "#     df_cs = df_cs[df_cs.review.str.contains(kw_str)== True]\n",
    "    \n",
    "#     df_cs['CS_SS'] = 'CS'\n",
    "#     df_ss['CS_SS'] = 'SS'\n",
    "\n",
    "#     df_t = df_cs.append(df_ss, ignore_index=True)\n",
    "#     return df_t"
   ]
  },
  {
   "cell_type": "code",
   "execution_count": 129,
   "metadata": {},
   "outputs": [],
   "source": [
    "#CS / SS 라벨링\n",
    "kw_list=call_kw()\n",
    "def tokenizedNtagging(text):\n",
    "    #kw로 분류\n",
    "    for kw in kw_list:\n",
    "        if kw.lower() in text:\n",
    "            return 'CS'\n",
    "        \n",
    "    #pos로 분류    \n",
    "    from nltk import word_tokenize, pos_tag\n",
    "    # nltk로 토크나이즈, 포스태깅\n",
    "    tokens = word_tokenize(text)\n",
    "    pos_tokens = pos_tag(tokens)\n",
    "\n",
    "    count = 0\n",
    "    for tok, pos in pos_tokens:\n",
    "        if pos in ['JJR', 'JJS', 'RBS', \"RBR\"]:\n",
    "            count+=1\n",
    "\n",
    "    if count != 0:\n",
    "        return 'CS'\n",
    "    else:\n",
    "        return 'SS'            "
   ]
  },
  {
   "cell_type": "code",
   "execution_count": 130,
   "metadata": {},
   "outputs": [],
   "source": [
    "#모델 사전 호출 함수\n",
    "def call_model():\n",
    "    df=pd.read_csv('product_name_number.csv', engine='python')\n",
    "    model_ls=list(df['model'])\n",
    "    model_reg='( '+' | '.join(model_ls)+' )'\n",
    "    return model_reg"
   ]
  },
  {
   "cell_type": "code",
   "execution_count": 131,
   "metadata": {},
   "outputs": [],
   "source": [
    "#리뷰에서 언급된 모델명 탐색\n",
    "import re\n",
    "import numpy as np\n",
    "\n",
    "model_reg = call_model()\n",
    "def targetmodel_read(text):\n",
    "    read_ls = re.findall(model_reg,text)\n",
    "    if read_ls :\n",
    "        return ','.join(read_ls)\n",
    "    else:\n",
    "        return np.nan"
   ]
  },
  {
   "cell_type": "code",
   "execution_count": 132,
   "metadata": {},
   "outputs": [],
   "source": [
    "#csss 라벨링, 타겟 제품 검색 모델링\n",
    "def make_sscs(data):\n",
    "    data['CS_SS']=data['review']\n",
    "    data['target']=data['review']\n",
    "    data['CS_SS']=data['CS_SS'].apply(tokenizedNtagging)\n",
    "    print('CS_SS 라벨링 끝')\n",
    "    data_cs=data[data['CS_SS']=='CS']\n",
    "    data_ss=data[data['CS_SS']=='SS']\n",
    "    data_ss['target']=data_ss['target'].apply(lambda x:'NaN')\n",
    "    data_cs['target']=data_cs['target'].apply(targetmodel_read)\n",
    "    data_cs=data_cs.dropna()\n",
    "    print('모델명 탐색 끝')\n",
    "    new_data=pd.concat([data_cs,data_ss])\n",
    "    return new_data"
   ]
  },
  {
   "cell_type": "code",
   "execution_count": 133,
   "metadata": {},
   "outputs": [
    {
     "name": "stdout",
     "output_type": "stream",
     "text": [
      "CS_SS 라벨링 끝\n"
     ]
    },
    {
     "name": "stderr",
     "output_type": "stream",
     "text": [
      "C:\\Users\\tjlee\\Anaconda3\\lib\\site-packages\\ipykernel_launcher.py:9: SettingWithCopyWarning: \n",
      "A value is trying to be set on a copy of a slice from a DataFrame.\n",
      "Try using .loc[row_indexer,col_indexer] = value instead\n",
      "\n",
      "See the caveats in the documentation: http://pandas.pydata.org/pandas-docs/stable/indexing.html#indexing-view-versus-copy\n",
      "  if __name__ == '__main__':\n"
     ]
    },
    {
     "name": "stdout",
     "output_type": "stream",
     "text": [
      "모델명 탐색 끝\n"
     ]
    },
    {
     "name": "stderr",
     "output_type": "stream",
     "text": [
      "C:\\Users\\tjlee\\Anaconda3\\lib\\site-packages\\ipykernel_launcher.py:10: SettingWithCopyWarning: \n",
      "A value is trying to be set on a copy of a slice from a DataFrame.\n",
      "Try using .loc[row_indexer,col_indexer] = value instead\n",
      "\n",
      "See the caveats in the documentation: http://pandas.pydata.org/pandas-docs/stable/indexing.html#indexing-view-versus-copy\n",
      "  # Remove the CWD from sys.path while we load stuff.\n"
     ]
    },
    {
     "data": {
      "text/html": [
       "<div>\n",
       "<style scoped>\n",
       "    .dataframe tbody tr th:only-of-type {\n",
       "        vertical-align: middle;\n",
       "    }\n",
       "\n",
       "    .dataframe tbody tr th {\n",
       "        vertical-align: top;\n",
       "    }\n",
       "\n",
       "    .dataframe thead th {\n",
       "        text-align: right;\n",
       "    }\n",
       "</style>\n",
       "<table border=\"1\" class=\"dataframe\">\n",
       "  <thead>\n",
       "    <tr style=\"text-align: right;\">\n",
       "      <th></th>\n",
       "      <th>asin</th>\n",
       "      <th>date</th>\n",
       "      <th>product</th>\n",
       "      <th>review</th>\n",
       "      <th>score</th>\n",
       "      <th>user</th>\n",
       "      <th>CS_SS</th>\n",
       "      <th>target</th>\n",
       "    </tr>\n",
       "  </thead>\n",
       "  <tbody>\n",
       "    <tr>\n",
       "      <th>75</th>\n",
       "      <td>B00000J48G</td>\n",
       "      <td>06 8, 2002</td>\n",
       "      <td>Polaroid PDC-640 0.3MP Digital Camera Creative...</td>\n",
       "      <td>i don't recommend using either the medium or l...</td>\n",
       "      <td>3.0</td>\n",
       "      <td>Sam Bethune</td>\n",
       "      <td>CS</td>\n",
       "      <td>pdc 640</td>\n",
       "    </tr>\n",
       "    <tr>\n",
       "      <th>77</th>\n",
       "      <td>B00000J48G</td>\n",
       "      <td>06 8, 2002</td>\n",
       "      <td>Polaroid PDC-640 0.3MP Digital Camera Creative...</td>\n",
       "      <td>the pixel mode you use will also make a differ...</td>\n",
       "      <td>3.0</td>\n",
       "      <td>Sam Bethune</td>\n",
       "      <td>CS</td>\n",
       "      <td>pdc 640</td>\n",
       "    </tr>\n",
       "    <tr>\n",
       "      <th>172</th>\n",
       "      <td>B00000JDEL</td>\n",
       "      <td>06 24, 2000</td>\n",
       "      <td>Kodak DC240 1.2MP Digital Camera w/ 3x Optical...</td>\n",
       "      <td>the  camera is so easy to use and has such a w...</td>\n",
       "      <td>4.0</td>\n",
       "      <td>Love2Dance</td>\n",
       "      <td>CS</td>\n",
       "      <td>dc240</td>\n",
       "    </tr>\n",
       "    <tr>\n",
       "      <th>205</th>\n",
       "      <td>B00000JFIF</td>\n",
       "      <td>11 26, 1999</td>\n",
       "      <td>Olympus D-340R 1.2MP Digital Camera</td>\n",
       "      <td>the olympus d-340r is, in my opinion, the best...</td>\n",
       "      <td>5.0</td>\n",
       "      <td>C. Petit</td>\n",
       "      <td>CS</td>\n",
       "      <td>d-340r</td>\n",
       "    </tr>\n",
       "    <tr>\n",
       "      <th>270</th>\n",
       "      <td>B00000JFIF</td>\n",
       "      <td>01 2, 2003</td>\n",
       "      <td>Olympus D-340R 1.2MP Digital Camera</td>\n",
       "      <td>after a family mememoryer purchased this olymp...</td>\n",
       "      <td>1.0</td>\n",
       "      <td>Joe Conley \"noevilpeople\"</td>\n",
       "      <td>CS</td>\n",
       "      <td>d-340r</td>\n",
       "    </tr>\n",
       "  </tbody>\n",
       "</table>\n",
       "</div>"
      ],
      "text/plain": [
       "           asin         date  \\\n",
       "75   B00000J48G   06 8, 2002   \n",
       "77   B00000J48G   06 8, 2002   \n",
       "172  B00000JDEL  06 24, 2000   \n",
       "205  B00000JFIF  11 26, 1999   \n",
       "270  B00000JFIF   01 2, 2003   \n",
       "\n",
       "                                               product  \\\n",
       "75   Polaroid PDC-640 0.3MP Digital Camera Creative...   \n",
       "77   Polaroid PDC-640 0.3MP Digital Camera Creative...   \n",
       "172  Kodak DC240 1.2MP Digital Camera w/ 3x Optical...   \n",
       "205                Olympus D-340R 1.2MP Digital Camera   \n",
       "270                Olympus D-340R 1.2MP Digital Camera   \n",
       "\n",
       "                                                review  score  \\\n",
       "75   i don't recommend using either the medium or l...    3.0   \n",
       "77   the pixel mode you use will also make a differ...    3.0   \n",
       "172  the  camera is so easy to use and has such a w...    4.0   \n",
       "205  the olympus d-340r is, in my opinion, the best...    5.0   \n",
       "270  after a family mememoryer purchased this olymp...    1.0   \n",
       "\n",
       "                          user CS_SS     target  \n",
       "75                 Sam Bethune    CS   pdc 640   \n",
       "77                 Sam Bethune    CS   pdc 640   \n",
       "172                 Love2Dance    CS     dc240   \n",
       "205                   C. Petit    CS    d-340r   \n",
       "270  Joe Conley \"noevilpeople\"    CS    d-340r   "
      ]
     },
     "execution_count": 133,
     "metadata": {},
     "output_type": "execute_result"
    }
   ],
   "source": [
    "df_t = make_sscs(data)\n",
    "df_t.head()"
   ]
  },
  {
   "cell_type": "code",
   "execution_count": 134,
   "metadata": {},
   "outputs": [
    {
     "data": {
      "text/plain": [
       "23852"
      ]
     },
     "execution_count": 134,
     "metadata": {},
     "output_type": "execute_result"
    }
   ],
   "source": [
    "len(df_t[df_t.CS_SS=='CS'])"
   ]
  },
  {
   "cell_type": "code",
   "execution_count": 135,
   "metadata": {},
   "outputs": [
    {
     "data": {
      "text/plain": [
       "179119"
      ]
     },
     "execution_count": 135,
     "metadata": {},
     "output_type": "execute_result"
    }
   ],
   "source": [
    "len(df_t[df_t.CS_SS=='SS'])"
   ]
  },
  {
   "cell_type": "code",
   "execution_count": 58,
   "metadata": {},
   "outputs": [],
   "source": [
    "df_t.to_csv('labelingSSCS.csv',index=False, encoding='utf-8')"
   ]
  },
  {
   "cell_type": "markdown",
   "metadata": {},
   "source": [
    "======================== 테스트 영역 ================================================"
   ]
  },
  {
   "cell_type": "code",
   "execution_count": 136,
   "metadata": {},
   "outputs": [],
   "source": [
    "test_df2=df_t.copy()"
   ]
  },
  {
   "cell_type": "code",
   "execution_count": 144,
   "metadata": {},
   "outputs": [
    {
     "data": {
      "text/html": [
       "<div>\n",
       "<style scoped>\n",
       "    .dataframe tbody tr th:only-of-type {\n",
       "        vertical-align: middle;\n",
       "    }\n",
       "\n",
       "    .dataframe tbody tr th {\n",
       "        vertical-align: top;\n",
       "    }\n",
       "\n",
       "    .dataframe thead th {\n",
       "        text-align: right;\n",
       "    }\n",
       "</style>\n",
       "<table border=\"1\" class=\"dataframe\">\n",
       "  <thead>\n",
       "    <tr style=\"text-align: right;\">\n",
       "      <th></th>\n",
       "      <th>asin</th>\n",
       "      <th>date</th>\n",
       "      <th>product</th>\n",
       "      <th>review</th>\n",
       "      <th>score</th>\n",
       "      <th>user</th>\n",
       "      <th>CS_SS</th>\n",
       "      <th>target</th>\n",
       "    </tr>\n",
       "  </thead>\n",
       "  <tbody>\n",
       "    <tr>\n",
       "      <th>18814</th>\n",
       "      <td>B00005V619</td>\n",
       "      <td>07 10, 2002</td>\n",
       "      <td>Minolta Dimage X 2MP Digital Camera with 3x Op...</td>\n",
       "      <td>perfect for family outings and friendly gather...</td>\n",
       "      <td>4.0</td>\n",
       "      <td>A. Hsieh</td>\n",
       "      <td>CS</td>\n",
       "      <td>xi</td>\n",
       "    </tr>\n",
       "    <tr>\n",
       "      <th>27528</th>\n",
       "      <td>B00006LV79</td>\n",
       "      <td>11 12, 2002</td>\n",
       "      <td>Canon PowerShot S230 3.2 MP Digital ELPH Camer...</td>\n",
       "      <td>the picture quality is not quite as good (a bi...</td>\n",
       "      <td>5.0</td>\n",
       "      <td>\"clappingmonkey\"</td>\n",
       "      <td>CS</td>\n",
       "      <td>xi</td>\n",
       "    </tr>\n",
       "    <tr>\n",
       "      <th>28068</th>\n",
       "      <td>B00006RYUX</td>\n",
       "      <td>12 20, 2002</td>\n",
       "      <td>Minolta Dimage Xi 3.2MP Digital Camera w/ 3x O...</td>\n",
       "      <td>the dimage xi now lets you delete an image by ...</td>\n",
       "      <td>5.0</td>\n",
       "      <td>Ashegam</td>\n",
       "      <td>CS</td>\n",
       "      <td>xi</td>\n",
       "    </tr>\n",
       "    <tr>\n",
       "      <th>28080</th>\n",
       "      <td>B00006RYUX</td>\n",
       "      <td>03 22, 2003</td>\n",
       "      <td>Minolta Dimage Xi 3.2MP Digital Camera w/ 3x O...</td>\n",
       "      <td>the xi has 50% more pixels and also more optic...</td>\n",
       "      <td>5.0</td>\n",
       "      <td>Gadgester \"No Time, No Money\"</td>\n",
       "      <td>CS</td>\n",
       "      <td>xi</td>\n",
       "    </tr>\n",
       "    <tr>\n",
       "      <th>28779</th>\n",
       "      <td>B000087HWM</td>\n",
       "      <td>04 3, 2003</td>\n",
       "      <td>Pentax Optio S 3.2MP Digital Camera w/ 3x Opti...</td>\n",
       "      <td>compared before purchase with minolta dimage x...</td>\n",
       "      <td>5.0</td>\n",
       "      <td>Randy Poe \"rpoe0728\"</td>\n",
       "      <td>CS</td>\n",
       "      <td>xi</td>\n",
       "    </tr>\n",
       "    <tr>\n",
       "      <th>28780</th>\n",
       "      <td>B000087HWM</td>\n",
       "      <td>04 3, 2003</td>\n",
       "      <td>Pentax Optio S 3.2MP Digital Camera w/ 3x Opti...</td>\n",
       "      <td>best feature is a focus focus for low-flash si...</td>\n",
       "      <td>5.0</td>\n",
       "      <td>Randy Poe \"rpoe0728\"</td>\n",
       "      <td>CS</td>\n",
       "      <td>xi</td>\n",
       "    </tr>\n",
       "    <tr>\n",
       "      <th>35478</th>\n",
       "      <td>B00008PVXA</td>\n",
       "      <td>09 28, 2003</td>\n",
       "      <td>Remanufactured Minolta Dimage Xt 3.2 MP Digita...</td>\n",
       "      <td>but that competition has not stood still and t...</td>\n",
       "      <td>3.0</td>\n",
       "      <td>jemaerca</td>\n",
       "      <td>CS</td>\n",
       "      <td>xi</td>\n",
       "    </tr>\n",
       "    <tr>\n",
       "      <th>209066</th>\n",
       "      <td>B0029U0WWU</td>\n",
       "      <td>06 2, 2012</td>\n",
       "      <td>Sony Alpha A230L 10.2 MP Digital SLR Camera wi...</td>\n",
       "      <td>i read a post that said the older lenses (befo...</td>\n",
       "      <td>4.0</td>\n",
       "      <td>D Allen</td>\n",
       "      <td>CS</td>\n",
       "      <td>xi</td>\n",
       "    </tr>\n",
       "  </tbody>\n",
       "</table>\n",
       "</div>"
      ],
      "text/plain": [
       "              asin         date  \\\n",
       "18814   B00005V619  07 10, 2002   \n",
       "27528   B00006LV79  11 12, 2002   \n",
       "28068   B00006RYUX  12 20, 2002   \n",
       "28080   B00006RYUX  03 22, 2003   \n",
       "28779   B000087HWM   04 3, 2003   \n",
       "28780   B000087HWM   04 3, 2003   \n",
       "35478   B00008PVXA  09 28, 2003   \n",
       "209066  B0029U0WWU   06 2, 2012   \n",
       "\n",
       "                                                  product  \\\n",
       "18814   Minolta Dimage X 2MP Digital Camera with 3x Op...   \n",
       "27528   Canon PowerShot S230 3.2 MP Digital ELPH Camer...   \n",
       "28068   Minolta Dimage Xi 3.2MP Digital Camera w/ 3x O...   \n",
       "28080   Minolta Dimage Xi 3.2MP Digital Camera w/ 3x O...   \n",
       "28779   Pentax Optio S 3.2MP Digital Camera w/ 3x Opti...   \n",
       "28780   Pentax Optio S 3.2MP Digital Camera w/ 3x Opti...   \n",
       "35478   Remanufactured Minolta Dimage Xt 3.2 MP Digita...   \n",
       "209066  Sony Alpha A230L 10.2 MP Digital SLR Camera wi...   \n",
       "\n",
       "                                                   review  score  \\\n",
       "18814   perfect for family outings and friendly gather...    4.0   \n",
       "27528   the picture quality is not quite as good (a bi...    5.0   \n",
       "28068   the dimage xi now lets you delete an image by ...    5.0   \n",
       "28080   the xi has 50% more pixels and also more optic...    5.0   \n",
       "28779   compared before purchase with minolta dimage x...    5.0   \n",
       "28780   best feature is a focus focus for low-flash si...    5.0   \n",
       "35478   but that competition has not stood still and t...    3.0   \n",
       "209066  i read a post that said the older lenses (befo...    4.0   \n",
       "\n",
       "                                 user CS_SS target  \n",
       "18814                        A. Hsieh    CS    xi   \n",
       "27528                \"clappingmonkey\"    CS    xi   \n",
       "28068                         Ashegam    CS    xi   \n",
       "28080   Gadgester \"No Time, No Money\"    CS    xi   \n",
       "28779            Randy Poe \"rpoe0728\"    CS    xi   \n",
       "28780            Randy Poe \"rpoe0728\"    CS    xi   \n",
       "35478                        jemaerca    CS    xi   \n",
       "209066                        D Allen    CS    xi   "
      ]
     },
     "execution_count": 144,
     "metadata": {},
     "output_type": "execute_result"
    }
   ],
   "source": [
    "test_df2[test_df2['target']==' xi ']"
   ]
  },
  {
   "cell_type": "code",
   "execution_count": 145,
   "metadata": {},
   "outputs": [
    {
     "data": {
      "text/plain": [
       "'compared before purchase with minolta dimage xi - optio s has more features, is smaller and flasher, and about the same price.'"
      ]
     },
     "execution_count": 145,
     "metadata": {},
     "output_type": "execute_result"
    }
   ],
   "source": [
    "test_df2[test_df2['target']==' xi '].loc[28779,'review']"
   ]
  },
  {
   "cell_type": "code",
   "execution_count": 138,
   "metadata": {},
   "outputs": [
    {
     "data": {
      "text/plain": [
       "NaN                                                 179119\n",
       " elph                                                  683\n",
       " interchangeable                                       491\n",
       " 5d                                                    489\n",
       " 7d                                                    326\n",
       " d7000                                                 321\n",
       " cmos                                                  310\n",
       " sigma                                                 283\n",
       " d90                                                   281\n",
       " s95                                                   241\n",
       " 40d                                                   241\n",
       " mini                                                  233\n",
       " d700                                                  228\n",
       " d300                                                  216\n",
       " d800                                                  215\n",
       " 60d                                                   209\n",
       " s100                                                  205\n",
       " s3                                                    199\n",
       " s90                                                   190\n",
       " t3i                                                   184\n",
       " xsi                                                   166\n",
       " 50d                                                   154\n",
       " d5100                                                 151\n",
       " g12                                                   148\n",
       " 20d                                                   143\n",
       " 6d                                                    143\n",
       " s5                                                    137\n",
       " g9                                                    137\n",
       " 24x                                                   136\n",
       " d3100                                                 133\n",
       "                                                     ...  \n",
       " s95 , g12 , s95 , s95 , s95                             1\n",
       " g12 , w1                                                1\n",
       " s9100 , cmos , s9100                                    1\n",
       " dmc-fz47k , dmc-fz60 , dmc                              1\n",
       " l610 , l610                                             1\n",
       " z1015is , d300                                          1\n",
       " d5100 , d5100 , d5100                                   1\n",
       " dmc-g3 , interchangeable                                1\n",
       " a3400 , elph , cmos                                     1\n",
       " sd850 , sd1000 , sd1000 , sd1000                        1\n",
       " s100 , sx260                                            1\n",
       " d800 , d4 , d610                                        1\n",
       " 5d , d800 , 5d                                          1\n",
       " xz-1 , mx-1                                             1\n",
       " g1x , cmos                                              1\n",
       " s3000 , s3000 , s3000 , s3000 , s3000 , s3000           1\n",
       " a700 , sd1000 , d60                                     1\n",
       " x-e1 , nex-7                                            1\n",
       " s700 , s6000                                            1\n",
       " d7000 , 40d                                             1\n",
       " d700 , d700 , d700 , d300 , d700 , d300 , d700          1\n",
       " a3000 , a3000                                           1\n",
       " a4000is , elph                                          1\n",
       " cmos , xz-10                                            1\n",
       " p3 , p2                                                 1\n",
       " d7100 , d7100 , d7000 , d7100                           1\n",
       " z981 , z712                                             1\n",
       " dmc-fs20                                                1\n",
       " fe-230 , fe-230                                         1\n",
       " d800 , d800 , d4                                        1\n",
       "Name: target, Length: 3938, dtype: int64"
      ]
     },
     "execution_count": 138,
     "metadata": {},
     "output_type": "execute_result"
    }
   ],
   "source": [
    "test_df2['target'].value_counts()"
   ]
  },
  {
   "cell_type": "code",
   "execution_count": 66,
   "metadata": {},
   "outputs": [
    {
     "data": {
      "text/plain": [
       "[' a ']"
      ]
     },
     "execution_count": 66,
     "metadata": {},
     "output_type": "execute_result"
    }
   ],
   "source": []
  },
  {
   "cell_type": "code",
   "execution_count": null,
   "metadata": {},
   "outputs": [],
   "source": []
  }
 ],
 "metadata": {
  "kernelspec": {
   "display_name": "Python 3",
   "language": "python",
   "name": "python3"
  },
  "language_info": {
   "codemirror_mode": {
    "name": "ipython",
    "version": 3
   },
   "file_extension": ".py",
   "mimetype": "text/x-python",
   "name": "python",
   "nbconvert_exporter": "python",
   "pygments_lexer": "ipython3",
   "version": "3.6.6"
  }
 },
 "nbformat": 4,
 "nbformat_minor": 2
}
