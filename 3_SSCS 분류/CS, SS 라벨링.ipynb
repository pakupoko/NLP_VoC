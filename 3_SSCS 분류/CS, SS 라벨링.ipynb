{
 "cells": [
  {
   "cell_type": "code",
   "execution_count": 1,
   "metadata": {},
   "outputs": [
    {
     "data": {
      "text/html": [
       "<div>\n",
       "<style scoped>\n",
       "    .dataframe tbody tr th:only-of-type {\n",
       "        vertical-align: middle;\n",
       "    }\n",
       "\n",
       "    .dataframe tbody tr th {\n",
       "        vertical-align: top;\n",
       "    }\n",
       "\n",
       "    .dataframe thead th {\n",
       "        text-align: right;\n",
       "    }\n",
       "</style>\n",
       "<table border=\"1\" class=\"dataframe\">\n",
       "  <thead>\n",
       "    <tr style=\"text-align: right;\">\n",
       "      <th></th>\n",
       "      <th>asin</th>\n",
       "      <th>date</th>\n",
       "      <th>product</th>\n",
       "      <th>review</th>\n",
       "      <th>score</th>\n",
       "      <th>user</th>\n",
       "    </tr>\n",
       "  </thead>\n",
       "  <tbody>\n",
       "    <tr>\n",
       "      <th>0</th>\n",
       "      <td>B00000J48G</td>\n",
       "      <td>11 18, 1999</td>\n",
       "      <td>Polaroid PDC-640 0.3MP Digital Camera Creative...</td>\n",
       "      <td>i have taken over 500 pics using all three foc...</td>\n",
       "      <td>4.0</td>\n",
       "      <td>A.J.Kirchoff (xgi@ametro.net)</td>\n",
       "    </tr>\n",
       "    <tr>\n",
       "      <th>1</th>\n",
       "      <td>B00000J48G</td>\n",
       "      <td>11 18, 1999</td>\n",
       "      <td>Polaroid PDC-640 0.3MP Digital Camera Creative...</td>\n",
       "      <td>i wish that it would take the 16memory and  th...</td>\n",
       "      <td>4.0</td>\n",
       "      <td>A.J.Kirchoff (xgi@ametro.net)</td>\n",
       "    </tr>\n",
       "    <tr>\n",
       "      <th>2</th>\n",
       "      <td>B00000J48G</td>\n",
       "      <td>06 10, 2002</td>\n",
       "      <td>Polaroid PDC-640 0.3MP Digital Camera Creative...</td>\n",
       "      <td>only draw back is theres no optical lens.</td>\n",
       "      <td>4.0</td>\n",
       "      <td>Andrea Rowland \"Andrea\"</td>\n",
       "    </tr>\n",
       "    <tr>\n",
       "      <th>3</th>\n",
       "      <td>B00000J48G</td>\n",
       "      <td>04 26, 2000</td>\n",
       "      <td>Polaroid PDC-640 0.3MP Digital Camera Creative...</td>\n",
       "      <td>i like  the way my 5x7 prints and smaller turn...</td>\n",
       "      <td>4.0</td>\n",
       "      <td>\"denisey65\"</td>\n",
       "    </tr>\n",
       "    <tr>\n",
       "      <th>4</th>\n",
       "      <td>B00000J48G</td>\n",
       "      <td>04 26, 2000</td>\n",
       "      <td>Polaroid PDC-640 0.3MP Digital Camera Creative...</td>\n",
       "      <td>flashing is  important in any photography, and...</td>\n",
       "      <td>4.0</td>\n",
       "      <td>\"denisey65\"</td>\n",
       "    </tr>\n",
       "  </tbody>\n",
       "</table>\n",
       "</div>"
      ],
      "text/plain": [
       "         asin         date                                            product  \\\n",
       "0  B00000J48G  11 18, 1999  Polaroid PDC-640 0.3MP Digital Camera Creative...   \n",
       "1  B00000J48G  11 18, 1999  Polaroid PDC-640 0.3MP Digital Camera Creative...   \n",
       "2  B00000J48G  06 10, 2002  Polaroid PDC-640 0.3MP Digital Camera Creative...   \n",
       "3  B00000J48G  04 26, 2000  Polaroid PDC-640 0.3MP Digital Camera Creative...   \n",
       "4  B00000J48G  04 26, 2000  Polaroid PDC-640 0.3MP Digital Camera Creative...   \n",
       "\n",
       "                                              review  score  \\\n",
       "0  i have taken over 500 pics using all three foc...    4.0   \n",
       "1  i wish that it would take the 16memory and  th...    4.0   \n",
       "2          only draw back is theres no optical lens.    4.0   \n",
       "3  i like  the way my 5x7 prints and smaller turn...    4.0   \n",
       "4  flashing is  important in any photography, and...    4.0   \n",
       "\n",
       "                            user  \n",
       "0  A.J.Kirchoff (xgi@ametro.net)  \n",
       "1  A.J.Kirchoff (xgi@ametro.net)  \n",
       "2        Andrea Rowland \"Andrea\"  \n",
       "3                    \"denisey65\"  \n",
       "4                    \"denisey65\"  "
      ]
     },
     "execution_count": 1,
     "metadata": {},
     "output_type": "execute_result"
    }
   ],
   "source": [
    "import pandas as pd\n",
    "from nltk.corpus import comparative_sentences  #keyword comparison 생성 모듈\n",
    "\n",
    "data = pd.read_csv('reviews_preprocessing.csv', engine='python')\n",
    "data.head()"
   ]
  },
  {
   "cell_type": "code",
   "execution_count": 2,
   "metadata": {},
   "outputs": [
    {
     "data": {
      "text/plain": [
       "442911"
      ]
     },
     "execution_count": 2,
     "metadata": {},
     "output_type": "execute_result"
    }
   ],
   "source": [
    "#데이터 확인\n",
    "len(data)"
   ]
  },
  {
   "cell_type": "code",
   "execution_count": 33,
   "metadata": {
    "scrolled": true
   },
   "outputs": [
    {
     "name": "stdout",
     "output_type": "stream",
     "text": [
      "beat\n",
      "inferior\n",
      "outstrip\n",
      "Choice\n",
      "choose\n",
      "prefer\n",
      "recommend\n",
      "outperform\n",
      "superior\n",
      "all\n",
      "favor\n",
      "defeat\n",
      "twice\n",
      "thrice\n",
      "Number one\n",
      "more\n",
      "like\n",
      "Versus\n",
      "first\n",
      "outdistance\n",
      "before\n",
      "double\n",
      "outsell\n",
      "nobody\n",
      "Vs\n",
      "last\n",
      "after\n",
      "thrice\n",
      "improve\n",
      "only\n",
      "outmatch\n",
      "ahead\n",
      "fraction\n",
      "outdo\n",
      "unmatched\n",
      "peerless\n",
      "differ\n",
      "outwit\n",
      "Compare\n",
      "top\n",
      "exceed\n",
      "lead\n",
      "win\n",
      "outstrip\n",
      "none\n",
      "unrivaled\n",
      "dominate\n",
      "second\n",
      "nonpareil\n",
      "advantage\n",
      "unlike\n",
      "least\n",
      "outclass\n",
      "outfox\n",
      "outdistance\n",
      "most\n",
      "up against\n",
      "less\n",
      "half\n",
      "behind\n",
      "Compete\n"
     ]
    }
   ],
   "source": [
    "#kw 사전 리스트 생성\n",
    "### kw_list = comparative_sentences.keywords_readme()[5:]\n",
    "### kw_str = '|'.join(kw_list)\n",
    "\n",
    "#kw 사전 수작업으로 분류 후 다시 읽어오기\n",
    "def call_kw():\n",
    "    kw_list = pd.read_excel('kw_list.xls')\n",
    "    #칼럼 중에 'to_use'만 가져오기\n",
    "    kw_list = list(kw_list['to_use'])\n",
    "#     kw_str = '|'.join(kw_list)\n",
    "    \n",
    "    return kw_list\n",
    "\n",
    "for kw in call_kw():\n",
    "    print(kw)"
   ]
  },
  {
   "cell_type": "code",
   "execution_count": 50,
   "metadata": {},
   "outputs": [],
   "source": [
    "# kw_list=call_kw()\n",
    "# #for문 기반 cs,ss 라벨링\n",
    "# def make_sscs(data):\n",
    "#     from nltk import word_tokenize, pos_tag\n",
    "#     cs_list = []\n",
    "#     ss_list = []\n",
    "#     for i in range(len(data)):\n",
    "#         text = data.loc[i, 'review']\n",
    "#         product = data.loc[i, 'product']\n",
    "        \n",
    "#         # nltk로 토크나이즈, 포스태깅\n",
    "#         tokens = word_tokenize(text)\n",
    "#         pos_tokens = pos_tag(tokens)\n",
    "        \n",
    "#         # 비교구문이 들어있는 문장 찾기\n",
    "#         count = 0\n",
    "#         for tok, pos in pos_tokens:\n",
    "#             if pos in ['JJR', 'JJS', 'RBS', \"RBR\"]:\n",
    "#                 count +=1\n",
    "\n",
    "#         if count != 0:\n",
    "#             cs_list.append(i)\n",
    "#         elif count == 0:\n",
    "#             ss_list.append(i)\n",
    "        \n",
    "    \n",
    "#     df_ss = data.loc[ss_list]     \n",
    "    \n",
    "#     df_cs = data.loc[cs_list]\n",
    "#     # product_list가 없어서 #처리함. 추후 보강해야 함\n",
    "# #     product_list = []\n",
    "# #     products = '|'.join(product_list)\n",
    "# #     df = df[df.review.str.contains(products)== True]\n",
    "#     df_cs = df_cs[df_cs.review.str.contains(kw_str)== True]\n",
    "    \n",
    "#     df_cs['CS_SS'] = 'CS'\n",
    "#     df_ss['CS_SS'] = 'SS'\n",
    "\n",
    "#     df_t = df_cs.append(df_ss, ignore_index=True)\n",
    "#     return df_t"
   ]
  },
  {
   "cell_type": "code",
   "execution_count": 53,
   "metadata": {},
   "outputs": [],
   "source": [
    "kw_list=call_kw()\n",
    "def tokenizedNtagging(text):\n",
    "    #kw로 분류\n",
    "    for kw in kw_list:\n",
    "        if kw.lower() in text:\n",
    "            return 'CS'\n",
    "        \n",
    "    #pos로 분류    \n",
    "    from nltk import word_tokenize, pos_tag\n",
    "    # nltk로 토크나이즈, 포스태깅\n",
    "    tokens = word_tokenize(text)\n",
    "    pos_tokens = pos_tag(tokens)\n",
    "\n",
    "    count = 0\n",
    "    for tok, pos in pos_tokens:\n",
    "        if pos in ['JJR', 'JJS', 'RBS', \"RBR\"]:\n",
    "            count+=1\n",
    "\n",
    "    if count != 0:\n",
    "        return 'CS'\n",
    "    else:\n",
    "        return 'SS'            "
   ]
  },
  {
   "cell_type": "code",
   "execution_count": 54,
   "metadata": {},
   "outputs": [],
   "source": [
    "def make_sscs(data):\n",
    "    data['CS_SS']=data['review']\n",
    "    data['CS_SS']=data['CS_SS'].apply(tokenizedNtagging)\n",
    "    \n",
    "    return data"
   ]
  },
  {
   "cell_type": "code",
   "execution_count": 55,
   "metadata": {},
   "outputs": [
    {
     "data": {
      "text/html": [
       "<div>\n",
       "<style scoped>\n",
       "    .dataframe tbody tr th:only-of-type {\n",
       "        vertical-align: middle;\n",
       "    }\n",
       "\n",
       "    .dataframe tbody tr th {\n",
       "        vertical-align: top;\n",
       "    }\n",
       "\n",
       "    .dataframe thead th {\n",
       "        text-align: right;\n",
       "    }\n",
       "</style>\n",
       "<table border=\"1\" class=\"dataframe\">\n",
       "  <thead>\n",
       "    <tr style=\"text-align: right;\">\n",
       "      <th></th>\n",
       "      <th>asin</th>\n",
       "      <th>date</th>\n",
       "      <th>product</th>\n",
       "      <th>review</th>\n",
       "      <th>score</th>\n",
       "      <th>user</th>\n",
       "      <th>CS_SS</th>\n",
       "    </tr>\n",
       "  </thead>\n",
       "  <tbody>\n",
       "    <tr>\n",
       "      <th>0</th>\n",
       "      <td>B00000J48G</td>\n",
       "      <td>11 18, 1999</td>\n",
       "      <td>Polaroid PDC-640 0.3MP Digital Camera Creative...</td>\n",
       "      <td>i have taken over 500 pics using all three foc...</td>\n",
       "      <td>4.0</td>\n",
       "      <td>A.J.Kirchoff (xgi@ametro.net)</td>\n",
       "      <td>CS</td>\n",
       "    </tr>\n",
       "    <tr>\n",
       "      <th>1</th>\n",
       "      <td>B00000J48G</td>\n",
       "      <td>11 18, 1999</td>\n",
       "      <td>Polaroid PDC-640 0.3MP Digital Camera Creative...</td>\n",
       "      <td>i wish that it would take the 16memory and  th...</td>\n",
       "      <td>4.0</td>\n",
       "      <td>A.J.Kirchoff (xgi@ametro.net)</td>\n",
       "      <td>SS</td>\n",
       "    </tr>\n",
       "    <tr>\n",
       "      <th>2</th>\n",
       "      <td>B00000J48G</td>\n",
       "      <td>06 10, 2002</td>\n",
       "      <td>Polaroid PDC-640 0.3MP Digital Camera Creative...</td>\n",
       "      <td>only draw back is theres no optical lens.</td>\n",
       "      <td>4.0</td>\n",
       "      <td>Andrea Rowland \"Andrea\"</td>\n",
       "      <td>CS</td>\n",
       "    </tr>\n",
       "    <tr>\n",
       "      <th>3</th>\n",
       "      <td>B00000J48G</td>\n",
       "      <td>04 26, 2000</td>\n",
       "      <td>Polaroid PDC-640 0.3MP Digital Camera Creative...</td>\n",
       "      <td>i like  the way my 5x7 prints and smaller turn...</td>\n",
       "      <td>4.0</td>\n",
       "      <td>\"denisey65\"</td>\n",
       "      <td>CS</td>\n",
       "    </tr>\n",
       "    <tr>\n",
       "      <th>4</th>\n",
       "      <td>B00000J48G</td>\n",
       "      <td>04 26, 2000</td>\n",
       "      <td>Polaroid PDC-640 0.3MP Digital Camera Creative...</td>\n",
       "      <td>flashing is  important in any photography, and...</td>\n",
       "      <td>4.0</td>\n",
       "      <td>\"denisey65\"</td>\n",
       "      <td>CS</td>\n",
       "    </tr>\n",
       "  </tbody>\n",
       "</table>\n",
       "</div>"
      ],
      "text/plain": [
       "         asin         date                                            product  \\\n",
       "0  B00000J48G  11 18, 1999  Polaroid PDC-640 0.3MP Digital Camera Creative...   \n",
       "1  B00000J48G  11 18, 1999  Polaroid PDC-640 0.3MP Digital Camera Creative...   \n",
       "2  B00000J48G  06 10, 2002  Polaroid PDC-640 0.3MP Digital Camera Creative...   \n",
       "3  B00000J48G  04 26, 2000  Polaroid PDC-640 0.3MP Digital Camera Creative...   \n",
       "4  B00000J48G  04 26, 2000  Polaroid PDC-640 0.3MP Digital Camera Creative...   \n",
       "\n",
       "                                              review  score  \\\n",
       "0  i have taken over 500 pics using all three foc...    4.0   \n",
       "1  i wish that it would take the 16memory and  th...    4.0   \n",
       "2          only draw back is theres no optical lens.    4.0   \n",
       "3  i like  the way my 5x7 prints and smaller turn...    4.0   \n",
       "4  flashing is  important in any photography, and...    4.0   \n",
       "\n",
       "                            user CS_SS  \n",
       "0  A.J.Kirchoff (xgi@ametro.net)    CS  \n",
       "1  A.J.Kirchoff (xgi@ametro.net)    SS  \n",
       "2        Andrea Rowland \"Andrea\"    CS  \n",
       "3                    \"denisey65\"    CS  \n",
       "4                    \"denisey65\"    CS  "
      ]
     },
     "execution_count": 55,
     "metadata": {},
     "output_type": "execute_result"
    }
   ],
   "source": [
    "df_t = make_sscs(data)\n",
    "df_t.head()"
   ]
  },
  {
   "cell_type": "code",
   "execution_count": 56,
   "metadata": {},
   "outputs": [
    {
     "data": {
      "text/plain": [
       "263792"
      ]
     },
     "execution_count": 56,
     "metadata": {},
     "output_type": "execute_result"
    }
   ],
   "source": [
    "len(df_t[df_t.CS_SS=='CS'])"
   ]
  },
  {
   "cell_type": "code",
   "execution_count": 57,
   "metadata": {},
   "outputs": [
    {
     "data": {
      "text/plain": [
       "179119"
      ]
     },
     "execution_count": 57,
     "metadata": {},
     "output_type": "execute_result"
    }
   ],
   "source": [
    "len(df_t[df_t.CS_SS=='SS'])"
   ]
  },
  {
   "cell_type": "code",
   "execution_count": 58,
   "metadata": {},
   "outputs": [],
   "source": [
    "df_t.to_csv('labelingSSCS.csv',index=False, encoding='utf-8')"
   ]
  },
  {
   "cell_type": "code",
   "execution_count": null,
   "metadata": {},
   "outputs": [],
   "source": []
  }
 ],
 "metadata": {
  "kernelspec": {
   "display_name": "Python 3",
   "language": "python",
   "name": "python3"
  },
  "language_info": {
   "codemirror_mode": {
    "name": "ipython",
    "version": 3
   },
   "file_extension": ".py",
   "mimetype": "text/x-python",
   "name": "python",
   "nbconvert_exporter": "python",
   "pygments_lexer": "ipython3",
   "version": "3.6.6"
  }
 },
 "nbformat": 4,
 "nbformat_minor": 2
}
