{
 "cells": [
  {
   "cell_type": "code",
   "execution_count": null,
   "metadata": {},
   "outputs": [],
   "source": [
    "import pandas as pd\n",
    "from nltk.corpus import comparative_sentences  #keyword comparison 생성 모듈\n",
    "\n",
    "data = pd.read_csv('reviews_preprocessing.csv', engine='python')\n",
    "data.head()"
   ]
  },
  {
   "cell_type": "code",
   "execution_count": null,
   "metadata": {},
   "outputs": [],
   "source": [
    "#데이터 확인\n",
    "len(data)"
   ]
  },
  {
   "cell_type": "code",
   "execution_count": null,
   "metadata": {
    "scrolled": true
   },
   "outputs": [],
   "source": [
    "#kw 사전 리스트 생성\n",
    "### kw_list = comparative_sentences.keywords_readme()[5:]\n",
    "### kw_str = '|'.join(kw_list)\n",
    "\n",
    "#kw 사전 수작업으로 분류 후 다시 읽어오기\n",
    "def call_kw():\n",
    "    kw_list = pd.read_csv('kw_list.csv',engine='python')\n",
    "    #칼럼 중에 'to_use'만 가져오기\n",
    "    kw_list = list(kw_list['to_use'])\n",
    "#     kw_str = '|'.join(kw_list)\n",
    "    \n",
    "    return kw_list\n",
    "\n",
    "for kw in call_kw():\n",
    "    print(kw)"
   ]
  },
  {
   "cell_type": "code",
   "execution_count": null,
   "metadata": {},
   "outputs": [],
   "source": [
    "#CS / SS 라벨링\n",
    "kw_list=call_kw()\n",
    "def tokenizedNtagging(text):\n",
    "    #kw로 분류\n",
    "    for kw in kw_list:\n",
    "        if kw.lower() in text:\n",
    "            return 'CS'\n",
    "        \n",
    "    #pos로 분류    \n",
    "    from nltk import word_tokenize, pos_tag\n",
    "    # nltk로 토크나이즈, 포스태깅\n",
    "    tokens = word_tokenize(text)\n",
    "    pos_tokens = pos_tag(tokens)\n",
    "\n",
    "    count = 0\n",
    "    for tok, pos in pos_tokens:\n",
    "        if pos in ['JJR', 'JJS', 'RBS', \"RBR\"]:\n",
    "            count+=1\n",
    "\n",
    "    if count != 0:\n",
    "        return 'CS'\n",
    "    else:\n",
    "        return 'SS'            "
   ]
  },
  {
   "cell_type": "code",
   "execution_count": null,
   "metadata": {},
   "outputs": [],
   "source": [
    "#모델 사전 호출 함수\n",
    "def call_model():\n",
    "    df=pd.read_csv('product_list.csv', engine='python')\n",
    "    model_ls=list(df['product'])\n",
    "    model_reg='( '+' | '.join(model_ls)+' )'\n",
    "    return model_reg"
   ]
  },
  {
   "cell_type": "code",
   "execution_count": null,
   "metadata": {},
   "outputs": [],
   "source": [
    "#리뷰에서 언급된 모델명 탐색\n",
    "import re\n",
    "import numpy as np\n",
    "\n",
    "model_reg = call_model()\n",
    "def targetmodel_read(text):\n",
    "    read_ls = re.findall(model_reg,text)\n",
    "    read_ls = list(set(read_ls))\n",
    "    if read_ls :\n",
    "        return ','.join(read_ls).replace(' ','')\n",
    "    else:\n",
    "        return np.nan"
   ]
  },
  {
   "cell_type": "code",
   "execution_count": null,
   "metadata": {},
   "outputs": [],
   "source": [
    "#자기 자신을 언급한 제품 삭제\n",
    "def targetmodel_del(df):\n",
    "    new_df = pd.DataFrame(columns = df.columns)\n",
    "    for idx in df.index:\n",
    "        if not df.loc[idx,'target'] in df.loc[idx, 'product'].lower():\n",
    "            new_df= pd.concat([new_df,pd.DataFrame(df.loc[idx]).T])\n",
    "        else:\n",
    "            print('제거 : ',df.loc[idx, 'product'], df.loc[idx,'target'])\n",
    "    return new_df"
   ]
  },
  {
   "cell_type": "code",
   "execution_count": null,
   "metadata": {},
   "outputs": [],
   "source": [
    "# #target 명을 아주 길게길게 만들어줍시다.\n",
    "# def targetmodel_full(df,prod_ls):\n",
    "#     def check_model(target):\n",
    "#         new_model = []\n",
    "#         model_ls = target.split(',')\n",
    "#         for model in model_ls:\n",
    "#             for prod in prod_ls:\n",
    "#                 if model in prod.lower():\n",
    "#                     new_model.append(prod)\n",
    "                    \n",
    "#         if new_model:\n",
    "#             print(new_model)\n",
    "#             return ','.join(new_model)\n",
    "#         else:\n",
    "#             return target\n",
    "    \n",
    "#     df['target']=df['target'].apply(check_model)\n",
    "#     return df"
   ]
  },
  {
   "cell_type": "code",
   "execution_count": null,
   "metadata": {},
   "outputs": [],
   "source": [
    "#csss 라벨링, 타겟 제품 검색 모델링\n",
    "def make_sscs(data):\n",
    "    product_ls=list(set(list(data['product'])))\n",
    "    \n",
    "    data['CS_SS']=data['review']\n",
    "    data['target']=data['review']\n",
    "    data['CS_SS']=data['CS_SS'].apply(tokenizedNtagging)\n",
    "    print('CS_SS 라벨링 끝')\n",
    "    data_cs=data[data['CS_SS']=='CS']\n",
    "    data_ss=data[data['CS_SS']=='SS']\n",
    "    data_ss['target']=data_ss['target'].apply(lambda x:'NaN')\n",
    "    data_cs['target']=data_cs['target'].apply(targetmodel_read)\n",
    "    print('모델명 탐색 끝')\n",
    "    data_cs=data_cs.dropna()\n",
    "    data_cs=targetmodel_del(data_cs)\n",
    "    print('자기 자신 호출 CS 제거')\n",
    "#     data_cs=targetmodel_full(data_cs,product_ls)\n",
    "#     print('target 명 길게 늘리기 완료')\n",
    "    new_data=pd.concat([data_cs,data_ss])\n",
    "    return new_data"
   ]
  },
  {
   "cell_type": "code",
   "execution_count": null,
   "metadata": {},
   "outputs": [],
   "source": [
    "df_t = make_sscs(data)\n",
    "df_t.head()"
   ]
  },
  {
   "cell_type": "code",
   "execution_count": null,
   "metadata": {},
   "outputs": [],
   "source": [
    "len(df_t[df_t.CS_SS=='CS'])"
   ]
  },
  {
   "cell_type": "code",
   "execution_count": null,
   "metadata": {},
   "outputs": [],
   "source": [
    "len(df_t[df_t.CS_SS=='SS'])"
   ]
  },
  {
   "cell_type": "code",
   "execution_count": null,
   "metadata": {},
   "outputs": [],
   "source": [
    "df_t.to_csv('labelingSSCS.csv',index=False, encoding='utf-8')"
   ]
  },
  {
   "cell_type": "markdown",
   "metadata": {},
   "source": [
    "======================== 테스트 영역 ================================================"
   ]
  },
  {
   "cell_type": "code",
   "execution_count": null,
   "metadata": {},
   "outputs": [],
   "source": []
  }
 ],
 "metadata": {
  "kernelspec": {
   "display_name": "Python 3",
   "language": "python",
   "name": "python3"
  },
  "language_info": {
   "codemirror_mode": {
    "name": "ipython",
    "version": 3
   },
   "file_extension": ".py",
   "mimetype": "text/x-python",
   "name": "python",
   "nbconvert_exporter": "python",
   "pygments_lexer": "ipython3",
   "version": "3.6.6"
  }
 },
 "nbformat": 4,
 "nbformat_minor": 2
}
