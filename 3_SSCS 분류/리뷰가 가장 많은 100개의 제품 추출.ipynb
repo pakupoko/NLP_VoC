{
 "cells": [
  {
   "cell_type": "code",
   "execution_count": null,
   "metadata": {},
   "outputs": [],
   "source": [
    "import pandas as pd\n",
    "df = pd.read_csv('product_100(valuecount_top_100_merged).csv')\n",
    "\n",
    "def extract_top_100_product_list(df):\n",
    "    data = df['product'].value_counts()[:100]\n",
    "    \n",
    "    # 리뷰가 가장 많은 제품 100개 데이터프레임으로 만듬\n",
    "    data = pd.DataFrame(data)\n",
    "    data = data.reset_index()\n",
    "    \n",
    "    # 100개의 제품을 리스트형식으로 변경\n",
    "    product_list_100 = list(data['index'])\n",
    "    # 리스트내 단어들을 (word)|로 변경\n",
    "    product_list_100 = '('+')|('.join(product_list_100)+')'\n",
    "    # 통일성을 위해 모두 소문자로 변환\n",
    "    product_list_100.lower()\n",
    "    return product_list_100\n",
    "\n",
    "top_100_list = extract_top_100_product_list(df)\n",
    "print(top_100_list)\n",
    "\n",
    "def extract_top_100_CS(df):\n",
    "    product_list_100 = extract_top_100_product_list(df)\n",
    "    \n",
    "    #모든 제품 리스트에서 top100 제품이 있는 것만 출력\n",
    "    df_100 = df[df['product'].str.contains(product_list_100) == True]\n",
    "    \n",
    "    # 출력된 top100제품들의 review에서 product_list_100에 호명된 제품만 출력\n",
    "    x = df_100[df_100['review'].str.contains('(nikon d700)|(canon eos 5d mark ii)|(panasonic lumix dmc-zs3)|(canon eos rebel t3i)|(canon powershot sx260)|(canon powershot sx50 hs)|(canon powershot s100)|(canon powershot elph 300)|(canon eos 7d)|(canon digital rebel xsi)|(panasonic lumix dmc-zs7)|(canon eos 60d)|(fujifilm x100)|(nikon d5100)|(nikon d800)|(canon powershot a590is)|(canon eos 6d)|(canon powershot s95)|(canon powershot sx280)|(nikon d3100)|(canon powershot sx230 hs)|(panasonic lumix dmc-fz200)|(panasonic lumix zs20)|(panasonic lumix dmc-lx5)|(canon powershot pro series s3 is)|(sony dsc-rx100/b)|(nikon d90)|(canon powershot s2 is)|(panasonic lumix dmc-tz5s)|(canon powershot sx10is)|(anon rebel xt)|(canon powershot sd780is)|(canon powershot sx20is)|(canon powershot sd1000)|(olympus om-d e-m5)|(panasonic lumix dmc-lx7w)|(canon eos rebel t4i)|(canon sx40 hs)|(sony nex-5n)|(canon eos 40d)|(canon powershot sd800 is)|(canon rebel xti)|(panasonic lumix dmc-fz35)|(nikon coolpix p510)|(canon eos rebel t1i)|(canon powershot sx130is)|(canon powershot pro series s5)|(nikon d600)|(canon powershot s90)|(canon powershot sx150)|(sony nex-6/b)|(panasonic lumix dmc-tz3k)|(canon powershot sd1200is)|(canon powershot sx210is)|(canon eos m)|(canon powershot a570is)|(nikon d5000)|(canon powershot d10)|(canon powershot sd870is)|(canon eos rebel t3)|(canon sx30is 14)|(canon powershot sx110is)|(olympus pen e-pl1)|(panasonic  lumix dmc-fz28k)|(nikon coolpix s8100)|(nikon coolpix l820)|(sony cyber-shot dsc-hx9v)|(nikon coolpix s9100)|(fujifilm x10)|(canon powershot elph 110 hs)|(panasonic dmc-fz150k)|(nikon d7100)|(canon g12)|(sony cyber-shot dsc-wx150)|(kodak easyshare z990)|(canon powershot sd750)|(canon powershot sd1400 is)|(sony nex-7)|(ge power pro x500-bk)|(canon eos 50d)|(fujifilm finepix hs10)|(sony cyber-shot dsc-hx5v)|(canon powershot sx160 is)|(canon powershot a2300)|(canon eos 70d)|(canon powershot a1400)|(fujifilm finepix hs20)|(canon powershot sd850 is)|(sony cyber-shot dsc-hx200v)|(kodak easyshare z981)|(fujifilm finepix hs50exr)|(fujifilm finepix real 3d w3)|(panasonic lumix dmc-fz70)|(canon powershot g9)|(canon powershot elph 330)|(canon powershot g15)|(panasonic dmc-fh25k)|(nikon coolpix l22)|(canon powershot s400)|(fujifilm finepix s1800)') == True]\n",
    "    \n",
    "    # CS만 출력\n",
    "    return x[x['CS_SS'] == 'CS']\n",
    "\n",
    "top_100_CS = extract_top_100_CS(df)\n",
    "print(top_100_CS)"
   ]
  }
 ],
 "metadata": {
  "kernelspec": {
   "display_name": "Python 3",
   "language": "python",
   "name": "python3"
  },
  "language_info": {
   "codemirror_mode": {
    "name": "ipython",
    "version": 3
   },
   "file_extension": ".py",
   "mimetype": "text/x-python",
   "name": "python",
   "nbconvert_exporter": "python",
   "pygments_lexer": "ipython3",
   "version": "3.7.3"
  }
 },
 "nbformat": 4,
 "nbformat_minor": 2
}
