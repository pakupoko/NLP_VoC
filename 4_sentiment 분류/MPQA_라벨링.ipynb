{
 "cells": [
  {
   "cell_type": "code",
   "execution_count": 1,
   "metadata": {
    "colab": {
     "base_uri": "https://localhost:8080/",
     "height": 802
    },
    "colab_type": "code",
    "id": "R96hWeJzquLi",
    "outputId": "8c3edac5-d10e-4c5f-9698-4eb31d96edb0"
   },
   "outputs": [
    {
     "data": {
      "text/html": [
       "<div>\n",
       "<style scoped>\n",
       "    .dataframe tbody tr th:only-of-type {\n",
       "        vertical-align: middle;\n",
       "    }\n",
       "\n",
       "    .dataframe tbody tr th {\n",
       "        vertical-align: top;\n",
       "    }\n",
       "\n",
       "    .dataframe thead th {\n",
       "        text-align: right;\n",
       "    }\n",
       "</style>\n",
       "<table border=\"1\" class=\"dataframe\">\n",
       "  <thead>\n",
       "    <tr style=\"text-align: right;\">\n",
       "      <th></th>\n",
       "      <th>asin</th>\n",
       "      <th>date</th>\n",
       "      <th>product</th>\n",
       "      <th>review</th>\n",
       "      <th>score</th>\n",
       "      <th>user</th>\n",
       "      <th>CS_SS</th>\n",
       "      <th>target</th>\n",
       "      <th>feature</th>\n",
       "    </tr>\n",
       "  </thead>\n",
       "  <tbody>\n",
       "    <tr>\n",
       "      <th>0</th>\n",
       "      <td>B00000JFOA</td>\n",
       "      <td>01 6, 2000</td>\n",
       "      <td>c-2000</td>\n",
       "      <td>the  newer model c-2020 has all the fixes exce...</td>\n",
       "      <td>4.0</td>\n",
       "      <td>Lee</td>\n",
       "      <td>CS</td>\n",
       "      <td>c-2020</td>\n",
       "      <td>lens</td>\n",
       "    </tr>\n",
       "    <tr>\n",
       "      <th>1</th>\n",
       "      <td>B000023VQC</td>\n",
       "      <td>06 24, 2001</td>\n",
       "      <td>pdc-700</td>\n",
       "      <td>it likes to change from xga to vga etc.. *the ...</td>\n",
       "      <td>2.0</td>\n",
       "      <td>A. Gray</td>\n",
       "      <td>CS</td>\n",
       "      <td>vga</td>\n",
       "      <td>battery</td>\n",
       "    </tr>\n",
       "    <tr>\n",
       "      <th>2</th>\n",
       "      <td>B00003OPEY</td>\n",
       "      <td>04 26, 2000</td>\n",
       "      <td>dsc-f505</td>\n",
       "      <td>the included memory stick is a  little small b...</td>\n",
       "      <td>5.0</td>\n",
       "      <td>David Pirmann</td>\n",
       "      <td>CS</td>\n",
       "      <td>110</td>\n",
       "      <td>memory</td>\n",
       "    </tr>\n",
       "    <tr>\n",
       "      <th>3</th>\n",
       "      <td>B00004R8V6</td>\n",
       "      <td>09 5, 2000</td>\n",
       "      <td>d-360l</td>\n",
       "      <td>it also  adds a nifty little optical function ...</td>\n",
       "      <td>5.0</td>\n",
       "      <td>Baltic Books \"Vic\"</td>\n",
       "      <td>CS</td>\n",
       "      <td>d-460</td>\n",
       "      <td>optical,battery,lcd,compression,flash</td>\n",
       "    </tr>\n",
       "    <tr>\n",
       "      <th>4</th>\n",
       "      <td>B00004R8VC</td>\n",
       "      <td>04 18, 2000</td>\n",
       "      <td>d-460</td>\n",
       "      <td>i read a lot of reviews on the d450 optical be...</td>\n",
       "      <td>5.0</td>\n",
       "      <td>JR</td>\n",
       "      <td>CS</td>\n",
       "      <td>d450</td>\n",
       "      <td>optical</td>\n",
       "    </tr>\n",
       "  </tbody>\n",
       "</table>\n",
       "</div>"
      ],
      "text/plain": [
       "         asin         date   product  \\\n",
       "0  B00000JFOA   01 6, 2000    c-2000   \n",
       "1  B000023VQC  06 24, 2001   pdc-700   \n",
       "2  B00003OPEY  04 26, 2000  dsc-f505   \n",
       "3  B00004R8V6   09 5, 2000    d-360l   \n",
       "4  B00004R8VC  04 18, 2000     d-460   \n",
       "\n",
       "                                              review  score  \\\n",
       "0  the  newer model c-2020 has all the fixes exce...    4.0   \n",
       "1  it likes to change from xga to vga etc.. *the ...    2.0   \n",
       "2  the included memory stick is a  little small b...    5.0   \n",
       "3  it also  adds a nifty little optical function ...    5.0   \n",
       "4  i read a lot of reviews on the d450 optical be...    5.0   \n",
       "\n",
       "                 user CS_SS  target                                feature  \n",
       "0                 Lee    CS  c-2020                                   lens  \n",
       "1             A. Gray    CS     vga                                battery  \n",
       "2       David Pirmann    CS     110                                 memory  \n",
       "3  Baltic Books \"Vic\"    CS   d-460  optical,battery,lcd,compression,flash  \n",
       "4                  JR    CS    d450                                optical  "
      ]
     },
     "execution_count": 1,
     "metadata": {},
     "output_type": "execute_result"
    }
   ],
   "source": [
    "import pandas as pd\n",
    "data = pd.read_csv('feature_labeling.csv',engine='python')\n",
    "data.head()"
   ]
  },
  {
   "cell_type": "code",
   "execution_count": 2,
   "metadata": {
    "colab": {},
    "colab_type": "code",
    "id": "cbidQ48xrznE"
   },
   "outputs": [],
   "source": [
    "pos = pd.read_excel('positive_words.xlsx')\n",
    "neg = pd.read_excel('negative_words.xlsx')\n",
    "\n",
    "pos.columns = ['pos_MPQA']\n",
    "neg.columns = ['neg_MPQA']"
   ]
  },
  {
   "cell_type": "code",
   "execution_count": 3,
   "metadata": {
    "colab": {
     "base_uri": "https://localhost:8080/",
     "height": 204
    },
    "colab_type": "code",
    "id": "V6kZq_ryrfHm",
    "outputId": "e0a39c5a-73af-49e3-a4fc-a2dfc9cf0e40"
   },
   "outputs": [
    {
     "data": {
      "text/html": [
       "<div>\n",
       "<style scoped>\n",
       "    .dataframe tbody tr th:only-of-type {\n",
       "        vertical-align: middle;\n",
       "    }\n",
       "\n",
       "    .dataframe tbody tr th {\n",
       "        vertical-align: top;\n",
       "    }\n",
       "\n",
       "    .dataframe thead th {\n",
       "        text-align: right;\n",
       "    }\n",
       "</style>\n",
       "<table border=\"1\" class=\"dataframe\">\n",
       "  <thead>\n",
       "    <tr style=\"text-align: right;\">\n",
       "      <th></th>\n",
       "      <th>pos_MPQA</th>\n",
       "    </tr>\n",
       "  </thead>\n",
       "  <tbody>\n",
       "    <tr>\n",
       "      <th>0</th>\n",
       "      <td>abound</td>\n",
       "    </tr>\n",
       "    <tr>\n",
       "      <th>1</th>\n",
       "      <td>abounds</td>\n",
       "    </tr>\n",
       "    <tr>\n",
       "      <th>2</th>\n",
       "      <td>abundance</td>\n",
       "    </tr>\n",
       "    <tr>\n",
       "      <th>3</th>\n",
       "      <td>abundant</td>\n",
       "    </tr>\n",
       "    <tr>\n",
       "      <th>4</th>\n",
       "      <td>accessable</td>\n",
       "    </tr>\n",
       "  </tbody>\n",
       "</table>\n",
       "</div>"
      ],
      "text/plain": [
       "     pos_MPQA\n",
       "0      abound\n",
       "1     abounds\n",
       "2   abundance\n",
       "3    abundant\n",
       "4  accessable"
      ]
     },
     "execution_count": 3,
     "metadata": {},
     "output_type": "execute_result"
    }
   ],
   "source": [
    "pos.head()"
   ]
  },
  {
   "cell_type": "code",
   "execution_count": 4,
   "metadata": {
    "colab": {
     "base_uri": "https://localhost:8080/",
     "height": 204
    },
    "colab_type": "code",
    "id": "IePtk9evsim3",
    "outputId": "f2f6b692-8a6a-4167-f4b9-dfa49a41db4b"
   },
   "outputs": [
    {
     "data": {
      "text/html": [
       "<div>\n",
       "<style scoped>\n",
       "    .dataframe tbody tr th:only-of-type {\n",
       "        vertical-align: middle;\n",
       "    }\n",
       "\n",
       "    .dataframe tbody tr th {\n",
       "        vertical-align: top;\n",
       "    }\n",
       "\n",
       "    .dataframe thead th {\n",
       "        text-align: right;\n",
       "    }\n",
       "</style>\n",
       "<table border=\"1\" class=\"dataframe\">\n",
       "  <thead>\n",
       "    <tr style=\"text-align: right;\">\n",
       "      <th></th>\n",
       "      <th>neg_MPQA</th>\n",
       "    </tr>\n",
       "  </thead>\n",
       "  <tbody>\n",
       "    <tr>\n",
       "      <th>0</th>\n",
       "      <td>2-faces</td>\n",
       "    </tr>\n",
       "    <tr>\n",
       "      <th>1</th>\n",
       "      <td>abnormal</td>\n",
       "    </tr>\n",
       "    <tr>\n",
       "      <th>2</th>\n",
       "      <td>abolish</td>\n",
       "    </tr>\n",
       "    <tr>\n",
       "      <th>3</th>\n",
       "      <td>abominable</td>\n",
       "    </tr>\n",
       "    <tr>\n",
       "      <th>4</th>\n",
       "      <td>abominably</td>\n",
       "    </tr>\n",
       "  </tbody>\n",
       "</table>\n",
       "</div>"
      ],
      "text/plain": [
       "     neg_MPQA\n",
       "0     2-faces\n",
       "1    abnormal\n",
       "2     abolish\n",
       "3  abominable\n",
       "4  abominably"
      ]
     },
     "execution_count": 4,
     "metadata": {},
     "output_type": "execute_result"
    }
   ],
   "source": [
    "neg.head()"
   ]
  },
  {
   "cell_type": "code",
   "execution_count": 5,
   "metadata": {
    "colab": {},
    "colab_type": "code",
    "id": "T_MwLLUJsjlz"
   },
   "outputs": [],
   "source": [
    "pos_list = list(pos['pos_MPQA'])\n",
    "neg_list = list(neg['neg_MPQA'])"
   ]
  },
  {
   "cell_type": "code",
   "execution_count": 6,
   "metadata": {
    "colab": {
     "base_uri": "https://localhost:8080/",
     "height": 71
    },
    "colab_type": "code",
    "id": "EhYHwnjEwFRM",
    "outputId": "bdde5d33-4a3d-4da8-cef3-06c23fd18aef"
   },
   "outputs": [
    {
     "name": "stdout",
     "output_type": "stream",
     "text": [
      "[nltk_data] Downloading package punkt to\n",
      "[nltk_data]     C:\\Users\\tjlee\\AppData\\Roaming\\nltk_data...\n",
      "[nltk_data]   Package punkt is already up-to-date!\n"
     ]
    },
    {
     "data": {
      "text/plain": [
       "True"
      ]
     },
     "execution_count": 6,
     "metadata": {},
     "output_type": "execute_result"
    }
   ],
   "source": [
    "import nltk\n",
    "nltk.download('punkt')"
   ]
  },
  {
   "cell_type": "code",
   "execution_count": 7,
   "metadata": {
    "colab": {},
    "colab_type": "code",
    "id": "VUwJKe7PuCNm"
   },
   "outputs": [],
   "source": [
    "def labeling_polarity(df):\n",
    "    from nltk import word_tokenize\n",
    "    df['polarity'] = 0\n",
    "\n",
    "    for i in range(len(df)):\n",
    "\n",
    "        txt = df.loc[i, 'review']\n",
    "        pos_count = 0\n",
    "        neg_count = 0\n",
    "\n",
    "        tokens = word_tokenize(txt)\n",
    "\n",
    "        for token in tokens:\n",
    "            if token in pos_list:\n",
    "                pos_count += 1\n",
    "            elif token in neg_list:\n",
    "                neg_count += 1\n",
    "\n",
    "        if pos_count > neg_count:\n",
    "            df.loc[i, 'polarity'] = 1\n",
    "        elif pos_count < neg_count:\n",
    "            df.loc[i, 'polarity'] = -1\n",
    "      \n",
    "    return df"
   ]
  },
  {
   "cell_type": "code",
   "execution_count": 8,
   "metadata": {
    "colab": {
     "base_uri": "https://localhost:8080/",
     "height": 1000
    },
    "colab_type": "code",
    "id": "8etJvUZGvwuj",
    "outputId": "713e2298-991c-4d2f-a0f4-313e9ea5c094"
   },
   "outputs": [
    {
     "data": {
      "text/html": [
       "<div>\n",
       "<style scoped>\n",
       "    .dataframe tbody tr th:only-of-type {\n",
       "        vertical-align: middle;\n",
       "    }\n",
       "\n",
       "    .dataframe tbody tr th {\n",
       "        vertical-align: top;\n",
       "    }\n",
       "\n",
       "    .dataframe thead th {\n",
       "        text-align: right;\n",
       "    }\n",
       "</style>\n",
       "<table border=\"1\" class=\"dataframe\">\n",
       "  <thead>\n",
       "    <tr style=\"text-align: right;\">\n",
       "      <th></th>\n",
       "      <th>asin</th>\n",
       "      <th>date</th>\n",
       "      <th>product</th>\n",
       "      <th>review</th>\n",
       "      <th>score</th>\n",
       "      <th>user</th>\n",
       "      <th>CS_SS</th>\n",
       "      <th>target</th>\n",
       "      <th>feature</th>\n",
       "      <th>polarity</th>\n",
       "    </tr>\n",
       "  </thead>\n",
       "  <tbody>\n",
       "    <tr>\n",
       "      <th>0</th>\n",
       "      <td>B00000JFOA</td>\n",
       "      <td>01 6, 2000</td>\n",
       "      <td>c-2000</td>\n",
       "      <td>the  newer model c-2020 has all the fixes exce...</td>\n",
       "      <td>4.0</td>\n",
       "      <td>Lee</td>\n",
       "      <td>CS</td>\n",
       "      <td>c-2020</td>\n",
       "      <td>lens</td>\n",
       "      <td>0</td>\n",
       "    </tr>\n",
       "    <tr>\n",
       "      <th>1</th>\n",
       "      <td>B000023VQC</td>\n",
       "      <td>06 24, 2001</td>\n",
       "      <td>pdc-700</td>\n",
       "      <td>it likes to change from xga to vga etc.. *the ...</td>\n",
       "      <td>2.0</td>\n",
       "      <td>A. Gray</td>\n",
       "      <td>CS</td>\n",
       "      <td>vga</td>\n",
       "      <td>battery</td>\n",
       "      <td>0</td>\n",
       "    </tr>\n",
       "    <tr>\n",
       "      <th>2</th>\n",
       "      <td>B00003OPEY</td>\n",
       "      <td>04 26, 2000</td>\n",
       "      <td>dsc-f505</td>\n",
       "      <td>the included memory stick is a  little small b...</td>\n",
       "      <td>5.0</td>\n",
       "      <td>David Pirmann</td>\n",
       "      <td>CS</td>\n",
       "      <td>110</td>\n",
       "      <td>memory</td>\n",
       "      <td>1</td>\n",
       "    </tr>\n",
       "    <tr>\n",
       "      <th>3</th>\n",
       "      <td>B00004R8V6</td>\n",
       "      <td>09 5, 2000</td>\n",
       "      <td>d-360l</td>\n",
       "      <td>it also  adds a nifty little optical function ...</td>\n",
       "      <td>5.0</td>\n",
       "      <td>Baltic Books \"Vic\"</td>\n",
       "      <td>CS</td>\n",
       "      <td>d-460</td>\n",
       "      <td>optical,battery,lcd,compression,flash</td>\n",
       "      <td>1</td>\n",
       "    </tr>\n",
       "    <tr>\n",
       "      <th>4</th>\n",
       "      <td>B00004R8VC</td>\n",
       "      <td>04 18, 2000</td>\n",
       "      <td>d-460</td>\n",
       "      <td>i read a lot of reviews on the d450 optical be...</td>\n",
       "      <td>5.0</td>\n",
       "      <td>JR</td>\n",
       "      <td>CS</td>\n",
       "      <td>d450</td>\n",
       "      <td>optical</td>\n",
       "      <td>-1</td>\n",
       "    </tr>\n",
       "  </tbody>\n",
       "</table>\n",
       "</div>"
      ],
      "text/plain": [
       "         asin         date   product  \\\n",
       "0  B00000JFOA   01 6, 2000    c-2000   \n",
       "1  B000023VQC  06 24, 2001   pdc-700   \n",
       "2  B00003OPEY  04 26, 2000  dsc-f505   \n",
       "3  B00004R8V6   09 5, 2000    d-360l   \n",
       "4  B00004R8VC  04 18, 2000     d-460   \n",
       "\n",
       "                                              review  score  \\\n",
       "0  the  newer model c-2020 has all the fixes exce...    4.0   \n",
       "1  it likes to change from xga to vga etc.. *the ...    2.0   \n",
       "2  the included memory stick is a  little small b...    5.0   \n",
       "3  it also  adds a nifty little optical function ...    5.0   \n",
       "4  i read a lot of reviews on the d450 optical be...    5.0   \n",
       "\n",
       "                 user CS_SS  target                                feature  \\\n",
       "0                 Lee    CS  c-2020                                   lens   \n",
       "1             A. Gray    CS     vga                                battery   \n",
       "2       David Pirmann    CS     110                                 memory   \n",
       "3  Baltic Books \"Vic\"    CS   d-460  optical,battery,lcd,compression,flash   \n",
       "4                  JR    CS    d450                                optical   \n",
       "\n",
       "   polarity  \n",
       "0         0  \n",
       "1         0  \n",
       "2         1  \n",
       "3         1  \n",
       "4        -1  "
      ]
     },
     "execution_count": 8,
     "metadata": {},
     "output_type": "execute_result"
    }
   ],
   "source": [
    "polarity_data = labeling_polarity(data)\n",
    "polarity_data.head()"
   ]
  },
  {
   "cell_type": "code",
   "execution_count": 13,
   "metadata": {
    "colab": {},
    "colab_type": "code",
    "id": "19BAu8oHv1Dv"
   },
   "outputs": [],
   "source": [
    "polarity_data.to_csv('polarity_labeling.csv',encoding='utf-8', index=False)"
   ]
  },
  {
   "cell_type": "code",
   "execution_count": null,
   "metadata": {},
   "outputs": [],
   "source": []
  }
 ],
 "metadata": {
  "colab": {
   "collapsed_sections": [],
   "name": "MPQA 라벨링.ipynb",
   "provenance": [],
   "version": "0.3.2"
  },
  "kernelspec": {
   "display_name": "Python 3",
   "language": "python",
   "name": "python3"
  },
  "language_info": {
   "codemirror_mode": {
    "name": "ipython",
    "version": 3
   },
   "file_extension": ".py",
   "mimetype": "text/x-python",
   "name": "python",
   "nbconvert_exporter": "python",
   "pygments_lexer": "ipython3",
   "version": "3.6.6"
  }
 },
 "nbformat": 4,
 "nbformat_minor": 1
}
